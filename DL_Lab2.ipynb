{
  "nbformat": 4,
  "nbformat_minor": 0,
  "metadata": {
    "colab": {
      "provenance": [],
      "toc_visible": true,
      "authorship_tag": "ABX9TyNsXcK/4muyj2ZE0kfTLMAS",
      "include_colab_link": true
    },
    "kernelspec": {
      "name": "python3",
      "display_name": "Python 3"
    },
    "language_info": {
      "name": "python"
    }
  },
  "cells": [
    {
      "cell_type": "markdown",
      "metadata": {
        "id": "view-in-github",
        "colab_type": "text"
      },
      "source": [
        "<a href=\"https://colab.research.google.com/github/TigistW/Deep-Learning-Labs/blob/main/DL_Lab2.ipynb\" target=\"_parent\"><img src=\"https://colab.research.google.com/assets/colab-badge.svg\" alt=\"Open In Colab\"/></a>"
      ]
    },
    {
      "cell_type": "code",
      "execution_count": 53,
      "metadata": {
        "id": "clSEyIdcu9x1"
      },
      "outputs": [],
      "source": [
        "import torch"
      ]
    },
    {
      "cell_type": "code",
      "source": [
        "torch.manual_seed(12)"
      ],
      "metadata": {
        "colab": {
          "base_uri": "https://localhost:8080/"
        },
        "id": "LYBcC4-aFBA-",
        "outputId": "904ec1c6-d59c-46d6-a3d4-2ed965712b9b"
      },
      "execution_count": 54,
      "outputs": [
        {
          "output_type": "execute_result",
          "data": {
            "text/plain": [
              "<torch._C.Generator at 0x7a26a6bdfd90>"
            ]
          },
          "metadata": {},
          "execution_count": 54
        }
      ]
    },
    {
      "cell_type": "code",
      "source": [
        "class DenseLayer:\n",
        "  def __init__(self, n_features, n_neurons):\n",
        "    self.weights = 0.01 * torch.rand(n_neurons,n_features)\n",
        "    self.biases = torch.zeros(1, n_neurons)\n",
        "\n",
        "  def forward(self, inputs):\n",
        "    self.output = torch.matmul(inputs, self.weights.T) + self.biases\n",
        "\n",
        "\n",
        "# given parameters\n",
        "num_feat = 5\n",
        "n_layer = 4\n",
        "# output_layer_neurons = 5\n",
        "neuron_in_every_layers = [16,16,16,5]\n",
        "n_sample = 7\n",
        "\n",
        "\n",
        "# initialize randon input with 'n_sample' samples and 'num_feat' features\n",
        "input = torch.rand(n_sample, num_feat)\n",
        "\n",
        "# for every hidden and output layer in the deep neural network\n",
        "for i in range(n_layer):\n",
        "\n",
        "  # create layer and propagate\n",
        "  layer = DenseLayer(num_feat, neuron_in_every_layers[i])\n",
        "  layer.forward(input)\n",
        "\n",
        "  #update feature number and input\n",
        "  num_feat = layer.output.shape[1]\n",
        "  input = layer.output\n",
        "\n",
        "# final layer(output layer) output\n",
        "# with a shape of 'n_sample' rows and number of output layer neurons of column\n",
        "layer.output, layer.output.shape\n"
      ],
      "metadata": {
        "colab": {
          "base_uri": "https://localhost:8080/"
        },
        "id": "lGS0cYJovqgN",
        "outputId": "36358e49-2035-4388-fc3f-76bfd01ea631"
      },
      "execution_count": 55,
      "outputs": [
        {
          "output_type": "execute_result",
          "data": {
            "text/plain": [
              "(tensor([[5.6836e-06, 6.7433e-06, 4.9443e-06, 5.8383e-06, 4.9755e-06],\n",
              "         [6.2533e-06, 7.4189e-06, 5.4451e-06, 6.4217e-06, 5.4722e-06],\n",
              "         [6.7467e-06, 8.0080e-06, 5.8741e-06, 6.9312e-06, 5.9055e-06],\n",
              "         [6.3545e-06, 7.5457e-06, 5.5376e-06, 6.5283e-06, 5.5615e-06],\n",
              "         [6.6277e-06, 7.8573e-06, 5.7645e-06, 6.8041e-06, 5.8003e-06],\n",
              "         [6.3538e-06, 7.5392e-06, 5.5296e-06, 6.5265e-06, 5.5623e-06],\n",
              "         [5.2349e-06, 6.2133e-06, 4.5602e-06, 5.3767e-06, 4.5800e-06]]),\n",
              " torch.Size([7, 5]))"
            ]
          },
          "metadata": {},
          "execution_count": 55
        }
      ]
    }
  ]
}