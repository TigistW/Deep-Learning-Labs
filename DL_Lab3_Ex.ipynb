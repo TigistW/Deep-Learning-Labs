{
  "cells": [
    {
      "cell_type": "markdown",
      "metadata": {
        "id": "view-in-github",
        "colab_type": "text"
      },
      "source": [
        "<a href=\"https://colab.research.google.com/github/TigistW/Deep-Learning-Labs/blob/main/DL_Lab3_Ex.ipynb\" target=\"_parent\"><img src=\"https://colab.research.google.com/assets/colab-badge.svg\" alt=\"Open In Colab\"/></a>"
      ]
    },
    {
      "cell_type": "code",
      "execution_count": 82,
      "metadata": {
        "id": "EiPQqZi1aa_u"
      },
      "outputs": [],
      "source": [
        "import torch"
      ]
    },
    {
      "cell_type": "code",
      "execution_count": 83,
      "metadata": {
        "colab": {
          "base_uri": "https://localhost:8080/"
        },
        "id": "chnTsCrEmppp",
        "outputId": "02c5b007-cd1e-43a2-a8fa-6b3808cf624b"
      },
      "outputs": [
        {
          "output_type": "execute_result",
          "data": {
            "text/plain": [
              "<torch._C.Generator at 0x791c9418c190>"
            ]
          },
          "metadata": {},
          "execution_count": 83
        }
      ],
      "source": [
        "torch.manual_seed(12)"
      ]
    },
    {
      "cell_type": "code",
      "source": [
        "class DenseLayer:\n",
        "    def __init__(self, n_features, n_neurons):\n",
        "        self.weights = 0.01 * torch.rand(n_neurons, n_features)\n",
        "        self.biases = torch.zeros(1, n_neurons)\n",
        "        self.output = None\n",
        "\n",
        "    def forward(self, inputs):\n",
        "        self.output = torch.matmul(inputs, self.weights.T) + self.biases\n",
        "\n",
        "class Activation_ReLU:\n",
        "    def forward(self, inputs):\n",
        "        self.output = torch.max(torch.tensor(0.0), inputs)\n",
        "\n",
        "class Activation_Sigmoid:\n",
        "    def forward(self, inputs):\n",
        "        self.output = 1 / (1 + torch.exp(-inputs))\n",
        "\n",
        "class Activation_Softmax:\n",
        "    def forward(self, inputs):\n",
        "        exp_values = torch.exp(inputs) - torch.max(inputs, axis=1, keepdims=True).values\n",
        "        summed_exp = torch.sum(exp_values, axis=1, keepdims=True)\n",
        "        self.output = exp_values / summed_exp\n",
        "\n",
        "class Loss_CategoricalCrossentropy:\n",
        "\n",
        "    def __init__(self, y_pred, y_true):\n",
        "\n",
        "      self.loss = torch.zeros(y_pred.shape[1])\n",
        "      self.loss_mean = 0\n",
        "\n",
        "      if y_pred.shape == y_true.shape:\n",
        "        self.forward_with_hot_encoding(y_pred, y_true)\n",
        "      elif y_pred.shape[0] == y_true.shape[0]:\n",
        "\n",
        "        self.forward_without_encoding(y_pred, y_true)\n",
        "      else:\n",
        "        pass\n",
        "\n",
        "    def forward_without_encoding(self, y_pred, y_true):\n",
        "        for i,j in zip(y_pred,y_true):\n",
        "          self.loss += (-(j*torch.log(i)))\n",
        "        self.loss_mean = torch.sum(self.loss) /len(self.loss)\n",
        "\n",
        "    def forward_with_hot_encoding(self, y_pred, y_true):\n",
        "        self.loss = -torch.sum(y_true * torch.log(y_pred))\n",
        "\n",
        "class NeuralNetwork:\n",
        "    def __init__(self, input, num_features, num_neurons, activation_function):\n",
        "\n",
        "        self.num_features = num_features\n",
        "        self.activation = activation_function\n",
        "        self.num_neurons = num_neurons\n",
        "        self.input = input\n",
        "        self.output = None\n",
        "\n",
        "    def forward(self):\n",
        "        self.layer = DenseLayer(self.num_features, self.num_neurons)\n",
        "        self.layer.forward(self.input)\n",
        "        self.activation.forward(self.layer.output)\n",
        "        self.output = self.activation.output\n",
        "class Accuracy:\n",
        "  def acc_percentage(self, predicted, target):\n",
        "      correct_predictions = (predicted == target).sum().item()\n",
        "      total_samples = len(target)\n",
        "      self.accuracy = correct_predictions / total_samples * 100.0\n",
        "\n"
      ],
      "metadata": {
        "id": "Dms_pDId10wF"
      },
      "execution_count": 84,
      "outputs": []
    },
    {
      "cell_type": "code",
      "source": [
        "# given parameters\n",
        "num_feat_one = 4\n",
        "num_feat_two = 4\n",
        "n_layer = 4\n",
        "output_layer_neurons = 3\n",
        "neuron_in_every_layers = [18,18,18,3]\n",
        "model_one_activation_functions = [Activation_ReLU(), Activation_ReLU(), Activation_ReLU(), Activation_Softmax()]\n",
        "model_two_activation_functions = [Activation_Sigmoid(), Activation_Sigmoid(), Activation_Sigmoid(), Activation_Softmax()]\n",
        "n_sample = 4\n",
        "\n",
        "input_one = torch.rand(n_sample, num_feat_one)\n",
        "input_two = torch.rand(n_sample, num_feat_two)\n",
        "\n",
        "# input_one = (100000 - 0) * torch.rand(n_sample, num_feat_one) + 0\n",
        "# input_two = (100000 - 0) * torch.rand(n_sample, num_feat_two) + 0\n",
        "\n",
        "for i in range(n_layer):\n",
        "  relu_model = NeuralNetwork(input_one, num_feat_one,neuron_in_every_layers[i], model_one_activation_functions[i])\n",
        "  relu_model.forward()\n",
        "  num_feat_one = relu_model.output.shape[1]\n",
        "  input_one = relu_model.output\n",
        "\n",
        "  sig_model = NeuralNetwork(input_two, num_feat_two,neuron_in_every_layers[i], model_two_activation_functions[i])\n",
        "  sig_model.forward()\n",
        "  num_feat_two = sig_model.output.shape[1]\n",
        "  input_two = sig_model.output\n"
      ],
      "metadata": {
        "id": "Z_jjusaT5fKt"
      },
      "execution_count": 85,
      "outputs": []
    },
    {
      "cell_type": "code",
      "source": [
        "#generate target values\n",
        "y_pred_model_one = relu_model.output\n",
        "\n",
        "y_true_model_one = torch.randint(num_feat_one, (n_sample,))\n",
        "y_true_model_one_encoded = torch.eye(y_pred_model_one.shape[1])[torch.randint(y_pred_model_one.shape[1], size=(n_sample,))]\n",
        "log_loss_one = Loss_CategoricalCrossentropy(y_pred_model_one, y_true_model_one)\n",
        "log_loss_one_encoded = Loss_CategoricalCrossentropy(y_pred_model_one, y_true_model_one_encoded)\n",
        "\n",
        "y_pred_model_two = sig_model.output\n",
        "\n",
        "y_true_model_two = torch.randint(num_feat_one, (n_sample,))\n",
        "y_true_model_two_encoded = torch.eye(y_pred_model_two.shape[1])[torch.randint(y_pred_model_two.shape[1], size=(n_sample,))]\n",
        "log_loss_two = Loss_CategoricalCrossentropy(y_pred_model_two, y_true_model_two)\n",
        "log_loss_two_encoded = Loss_CategoricalCrossentropy(y_pred_model_two, y_true_model_two_encoded)\n",
        "\n",
        "log_loss_one.loss_mean,log_loss_one_encoded.loss, log_loss_two.loss_mean,log_loss_two_encoded.loss,\n"
      ],
      "metadata": {
        "id": "BLPmmCox9uSv",
        "colab": {
          "base_uri": "https://localhost:8080/"
        },
        "outputId": "5c549952-901d-49da-8734-e7651e1f59ae"
      },
      "execution_count": 86,
      "outputs": [
        {
          "output_type": "execute_result",
          "data": {
            "text/plain": [
              "(tensor(4.3944), tensor(4.3944), tensor(3.2959), tensor(4.4075))"
            ]
          },
          "metadata": {},
          "execution_count": 86
        }
      ]
    },
    {
      "cell_type": "code",
      "source": [
        "accuracy_relu = Accuracy()\n",
        "accuracy_sig = Accuracy()\n",
        "\n",
        "target_value = torch.randint(num_feat_one, (n_sample,))\n",
        "\n",
        "pred_index_relu = torch.argmax(relu_model.output,axis=1)\n",
        "pred_index_sig = torch.argmax(sig_model.output,axis=1)\n",
        "\n",
        "accuracy_relu.acc_percentage(pred_index_relu, target_value)\n",
        "accuracy_sig.acc_percentage(pred_index_sig, target_value)\n",
        "\n",
        "accuracy_relu.acc_percentage(pred_index_relu, target_value)\n",
        "accuracy_sig.acc_percentage(pred_index_sig, target_value)\n",
        "\n",
        "accuracy_relu.accuracy, accuracy_sig.accuracy"
      ],
      "metadata": {
        "colab": {
          "base_uri": "https://localhost:8080/"
        },
        "id": "6_DBoJrny1Ln",
        "outputId": "941f8bb8-6576-4492-843d-1eed8d3abb6a"
      },
      "execution_count": 87,
      "outputs": [
        {
          "output_type": "execute_result",
          "data": {
            "text/plain": [
              "(0.0, 25.0)"
            ]
          },
          "metadata": {},
          "execution_count": 87
        }
      ]
    }
  ],
  "metadata": {
    "colab": {
      "provenance": [],
      "toc_visible": true,
      "authorship_tag": "ABX9TyM8t5bYo9nJk1GMV6uwk8Mk",
      "include_colab_link": true
    },
    "kernelspec": {
      "display_name": "Python 3",
      "name": "python3"
    },
    "language_info": {
      "name": "python"
    }
  },
  "nbformat": 4,
  "nbformat_minor": 0
}